{
 "cells": [
  {
   "cell_type": "markdown",
   "metadata": {},
   "source": [
    "# COS 429 Final Project\n",
    "## VGG Face\n",
    "\n",
    "Initial setup:\n",
    "- Create instance (p2.xlarge)\n",
    "- `scp` the .caffemodel and .prototxt files over\n",
    "- Create ssl cert and password for Jupyter notebook\n",
    "\n",
    "To get this up and running on AWS (after initial setup):\n",
    "`sudo ssh -i thesis.pem -L 443:127.0.0.1:8888 ubuntu@...`\n",
    "`127.0.0.1`\n",
    "Password: cos429_russakovsky\n",
    "`source activate caffe2_p27` # You need this part to get caffe2.python to run on juyter...ugh\n",
    "`jupyter notebook`"
   ]
  },
  {
   "cell_type": "code",
   "execution_count": 12,
   "metadata": {},
   "outputs": [],
   "source": [
    "import numpy as np\n",
    "import matplotlib.pyplot as plt\n",
    "from caffe2.python import core, workspace, models, model_helper"
   ]
  },
  {
   "cell_type": "code",
   "execution_count": null,
   "metadata": {},
   "outputs": [],
   "source": [
    "# caffe.set_device(0)\n",
    "# caffe.set_mode_gpu()"
   ]
  },
  {
   "cell_type": "code",
   "execution_count": 13,
   "metadata": {},
   "outputs": [],
   "source": [
    "model_filepath = 'vgg_face_caffe/VGG_FACE_deploy.prototxt'\n",
    "weights_filepath = 'vgg_face_caffe/VGG_FACE.caffemodel'"
   ]
  },
  {
   "cell_type": "code",
   "execution_count": 15,
   "metadata": {},
   "outputs": [],
   "source": [
    "net = core.Net('finalproj')"
   ]
  },
  {
   "cell_type": "code",
   "execution_count": 16,
   "metadata": {},
   "outputs": [
    {
     "data": {
      "text/plain": [
       "<caffe2.python.core.Net at 0x7f8a5c519190>"
      ]
     },
     "execution_count": 16,
     "metadata": {},
     "output_type": "execute_result"
    }
   ],
   "source": [
    "net"
   ]
  },
  {
   "cell_type": "code",
   "execution_count": null,
   "metadata": {},
   "outputs": [],
   "source": []
  }
 ],
 "metadata": {
  "kernelspec": {
   "display_name": "Python [conda env:caffe2_p27]",
   "language": "python",
   "name": "conda-env-caffe2_p27-py"
  },
  "language_info": {
   "codemirror_mode": {
    "name": "ipython",
    "version": 2
   },
   "file_extension": ".py",
   "mimetype": "text/x-python",
   "name": "python",
   "nbconvert_exporter": "python",
   "pygments_lexer": "ipython2",
   "version": "2.7.14"
  }
 },
 "nbformat": 4,
 "nbformat_minor": 2
}
